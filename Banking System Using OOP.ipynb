{
 "cells": [
  {
   "cell_type": "markdown",
   "id": "69e89dd0-754a-42c9-b699-a43b365f3368",
   "metadata": {},
   "source": [
    "# Banking System Project\n",
    "\n",
    "## Project Overview\n",
    "The **Banking System Project** is a Python-based financial application that allows users to create and manage bank accounts while performing various transactions. It is designed using object-oriented programming (OOP) principles to ensure structured and secure handling of financial data.\n",
    "\n",
    "## Key Features\n",
    "- **Account Creation**: Users can set up bank accounts with attributes like name, number, type, currency, branch, and balance.\n",
    "- **Encapsulation & Security**: Private attributes ensure sensitive data, like passwords, remain secure.\n",
    "- **Deposit & Withdrawal**: Users can deposit money into their accounts or withdraw funds, with real-time balance updates.\n",
    "- **Fund Transfers**: Account holders can transfer money to other accounts while ensuring currency compatibility.\n",
    "- **Balance Inquiry & Account Details**: Users can check their account balance and view detailed account information.\n",
    "- **Verification Mechanism**: Secure access to private account details through verification codes.\n",
    "\n",
    "## Implementation Highlights\n",
    "- Written in **Python** using **object-oriented programming** for modularity and maintainability.\n",
    "- Implements financial transaction logic with **real-world banking features**.\n",
    "- Ensures data security and authentication for sensitive operations.\n",
    "- Designed to simulate a **real banking experience** for educational purposes.\n",
    "\n",
    "## Learning Outcomes\n",
    "This project helps users develop:\n",
    "- **Strong programming skills** with Python and OOP principles.\n",
    "- **Financial data handling experience** with structured account management.\n",
    "- **Problem-solving abilities** in designing secure and functional systems.\n",
    "- **Real-world application development** skills for banking and fintech solutions.\n",
    "\n",
    "## Use Case Example\n",
    "The system allows users to:\n",
    "1. Create a bank account with specified details.\n",
    "2. Deposit money into their account securely.\n",
    "3. Withdraw funds with balance checks.\n",
    "4. Transfer money between accounts with verification.\n",
    "5. View account details and check balances.\n",
    "\n",
    "This project serves as a practical introduction to financial software development and reinforces key programming concepts used in **banking and fintech applications**."
   ]
  },
  {
   "cell_type": "code",
   "execution_count": 201,
   "id": "b0efde3a-b5a4-47da-986d-a5ea4d276d21",
   "metadata": {},
   "outputs": [],
   "source": [
    "# A banking system that creates an account and allows transactions\n",
    "\n",
    "class BankACC:\n",
    "    def __init__(self, account_name, account_number, account_type, currency, branch, password, balance=0):\n",
    "        self.account_name = account_name\n",
    "        self.account_number = account_number\n",
    "        self.account_type = account_type\n",
    "        self.currency = currency\n",
    "        self.branch = branch\n",
    "        self.balance = balance\n",
    "        # Encapsulation\n",
    "        self.__password = password  # Private attribute\n",
    "\n",
    "    def get_password(self, verification_code):\n",
    "        # match a verification code for secure access\n",
    "        if verification_code == \"SECURE_CODE_1234\":\n",
    "            return self.__password\n",
    "        else:\n",
    "            return \"Access Denied: Incorrect verification code.\"\n",
    "\n",
    "    def deposit(self, amount, depositor_name=None):\n",
    "        self.balance += amount\n",
    "        print(f'{self.currency}{amount} deposited by {depositor_name} into {self.account_name}: {self.account_number}')\n",
    "\n",
    "    def withdraw(self, amount):\n",
    "        if self.balance < amount:\n",
    "            print('Insufficient balance!')\n",
    "\n",
    "        if self.balance > amount:\n",
    "            self.balance -= amount\n",
    "            print(f'{self.currency}{amount} withdrawn successfully from {self.account_name}: {self.account_number}')\n",
    "\n",
    "    def transfer(self, amount, recipient_account):\n",
    "        if self.currency != recipient_account.currency:\n",
    "            print(\"Currency mismatch! Transfer failed.\")\n",
    "            return\n",
    "\n",
    "        if self.balance < amount:\n",
    "            print(f\"Insufficient funds! Transfer of {self.currency}{amount} failed.\")\n",
    "        else:\n",
    "            self.balance -= amount\n",
    "            recipient_account.balance += amount\n",
    "            print(f\"{self.currency}{amount} transferred successfully from {self.account_name}: {self.account_number} to {recipient_account.account_name}: {recipient_account.account_number}\")\n",
    "\n",
    "    def check_balance(self):\n",
    "        print(f'Acount balance: {self.currency}{self.balance}')\n",
    "\n",
    "    def view_account(self):\n",
    "        print(f\"Account Holder: {self.account_name}\")\n",
    "        print(f\"Account Number: {self.account_number}\")\n",
    "        print(f\"Account Type: {self.account_type}\")\n",
    "        print(f\"Branch: {self.branch}\")\n",
    "        print(f\"Balance: {self.currency}{self.balance}\")\n",
    "\n",
    "\n",
    "    # Instances\n",
    "\n",
    "Akofa_BankACC = BankACC('Akofa', 'UG10418147', 'Current',  'GHc', 'Adjiringanor', 'ak47')\n",
    "Catherine_BankACC = BankACC('Cathie', 'Fsc543215', 'Savings', 'GHc', 'Afuaman', 'cathie_6827')\n",
    "Dufie_BankACC = BankACC('Yukie', 'UG10732440', 'Investment', 'GHc', 'Adenta', 'saito_shifu11')\n",
    "Maureen_BankACC = BankACC('Maurine', 'BCA011047021', 'Investment', 'GHc', 'Spintex', 'rena143')\n",
    "Richmond_BankACC = BankACC('BraRichie', 'UG10944876', 'Checkings', 'USD', 'Adenta', 'pass_word.2025')"
   ]
  },
  {
   "cell_type": "code",
   "execution_count": 203,
   "id": "4a1a47eb-a7cd-47d3-ba98-25f7c18cf268",
   "metadata": {},
   "outputs": [
    {
     "name": "stdout",
     "output_type": "stream",
     "text": [
      "GHc1000 deposited by BraRichie into Akofa: UG10418147\n"
     ]
    }
   ],
   "source": [
    "Akofa_BankACC.balance\n",
    "\n",
    "Akofa_BankACC.deposit(1000, 'BraRichie')"
   ]
  },
  {
   "cell_type": "code",
   "execution_count": 205,
   "id": "a0d6a75f-a9f1-4e9d-b816-096bb43e70c4",
   "metadata": {},
   "outputs": [
    {
     "name": "stdout",
     "output_type": "stream",
     "text": [
      "Acount balance: GHc1000\n"
     ]
    }
   ],
   "source": [
    "Akofa_BankACC.check_balance()"
   ]
  },
  {
   "cell_type": "code",
   "execution_count": 207,
   "id": "a433be5f-acfd-4471-924a-141d13360f74",
   "metadata": {},
   "outputs": [
    {
     "name": "stdout",
     "output_type": "stream",
     "text": [
      "Acount balance: GHc0\n"
     ]
    }
   ],
   "source": [
    "Catherine_BankACC.check_balance()"
   ]
  },
  {
   "cell_type": "code",
   "execution_count": 209,
   "id": "7a4e84ad-eaee-44ae-a710-b9594d2c612c",
   "metadata": {},
   "outputs": [
    {
     "name": "stdout",
     "output_type": "stream",
     "text": [
      "Account Holder: Yukie\n",
      "Account Number: UG10732440\n",
      "Account Type: Investment\n",
      "Branch: Adenta\n",
      "Balance: GHc0\n"
     ]
    }
   ],
   "source": [
    "Dufie_BankACC.view_account()"
   ]
  },
  {
   "cell_type": "code",
   "execution_count": 211,
   "id": "ba4348a5-0678-4aac-8f2a-cce3ad2dc92a",
   "metadata": {},
   "outputs": [
    {
     "name": "stdout",
     "output_type": "stream",
     "text": [
      "rena143\n"
     ]
    }
   ],
   "source": [
    "verification_code = \"SECURE_CODE_1234\"\n",
    "print(Maureen_BankACC.get_password(verification_code))"
   ]
  },
  {
   "cell_type": "code",
   "execution_count": 213,
   "id": "a409a8cf-4c59-4cdc-9563-a3df838093ae",
   "metadata": {},
   "outputs": [
    {
     "name": "stdout",
     "output_type": "stream",
     "text": [
      "GHc50 transferred successfully from Akofa: UG10418147 to Maurine: BCA011047021\n"
     ]
    }
   ],
   "source": [
    "Akofa_BankACC.transfer(50, Maureen_BankACC)"
   ]
  },
  {
   "cell_type": "code",
   "execution_count": 215,
   "id": "49d09fce-d0d6-44f5-8691-e700c3584669",
   "metadata": {},
   "outputs": [
    {
     "name": "stdout",
     "output_type": "stream",
     "text": [
      "Acount balance: GHc50\n"
     ]
    }
   ],
   "source": [
    "Maureen_BankACC.check_balance()"
   ]
  },
  {
   "cell_type": "code",
   "execution_count": 221,
   "id": "c8796044-bd4d-4554-8ccd-8cc04d4275a9",
   "metadata": {},
   "outputs": [
    {
     "name": "stdout",
     "output_type": "stream",
     "text": [
      "Acount balance: GHc150\n"
     ]
    }
   ],
   "source": [
    "Akofa_BankACC.check_balance()"
   ]
  },
  {
   "cell_type": "code",
   "execution_count": 219,
   "id": "9f153b1a-2bdd-4950-87ba-1e513da97320",
   "metadata": {},
   "outputs": [
    {
     "name": "stdout",
     "output_type": "stream",
     "text": [
      "GHc800 withdrawn successfully from Akofa: UG10418147\n"
     ]
    }
   ],
   "source": [
    "Akofa_BankACC.withdraw(800)"
   ]
  },
  {
   "cell_type": "code",
   "execution_count": 225,
   "id": "90fe6f95-a6ee-4d3f-b4fa-69aeb5559e69",
   "metadata": {},
   "outputs": [
    {
     "name": "stdout",
     "output_type": "stream",
     "text": [
      "USD1000000 deposited by Bill Gates into BraRichie: UG10944876\n"
     ]
    }
   ],
   "source": [
    "Richmond_BankACC.deposit(1000000, 'Bill Gates')"
   ]
  },
  {
   "cell_type": "code",
   "execution_count": 227,
   "id": "f5ad0abf-4221-49af-8df0-453c234ccb9a",
   "metadata": {},
   "outputs": [
    {
     "name": "stdout",
     "output_type": "stream",
     "text": [
      "Currency mismatch! Transfer failed.\n"
     ]
    }
   ],
   "source": [
    "Richmond_BankACC.transfer(30, Catherine_BankACC)"
   ]
  }
 ],
 "metadata": {
  "kernelspec": {
   "display_name": "Python [conda env:base] *",
   "language": "python",
   "name": "conda-base-py"
  },
  "language_info": {
   "codemirror_mode": {
    "name": "ipython",
    "version": 3
   },
   "file_extension": ".py",
   "mimetype": "text/x-python",
   "name": "python",
   "nbconvert_exporter": "python",
   "pygments_lexer": "ipython3",
   "version": "3.12.7"
  }
 },
 "nbformat": 4,
 "nbformat_minor": 5
}
