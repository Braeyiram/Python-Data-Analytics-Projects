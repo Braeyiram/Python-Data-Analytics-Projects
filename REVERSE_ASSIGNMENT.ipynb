{
 "cells": [
  {
   "cell_type": "markdown",
   "id": "c70c912b-2de1-4434-9b7b-4dded4224236",
   "metadata": {},
   "source": [
    "## **Take Home**  \n",
    "Write a function called `reverse_only_letters` that takes a string and creates a new string  \n",
    "where all the positions of all the letters have been reversed, but all other characters have been left  \n",
    "in position. For example, `ab*c&&de` turn into `ed*c&&ba`."
   ]
  },
  {
   "cell_type": "code",
   "execution_count": 3,
   "id": "f46c6b45-9ca9-4d86-b03e-931ce998096b",
   "metadata": {},
   "outputs": [
    {
     "name": "stdout",
     "output_type": "stream",
     "text": [
      "ed*c&&ba\n"
     ]
    }
   ],
   "source": [
    "def reverse_only_letters(s: str) -> str:\n",
    "    # Extract all the letters from the string\n",
    "    letters = [char for char in s if char.isalpha()]\n",
    "    # Reverse the list of letters\n",
    "    letters.reverse()\n",
    "    \n",
    "    # Build the result string\n",
    "    result = []\n",
    "    letter_index = 0  # Index to track letters in the reversed list\n",
    "    for char in s:\n",
    "        if char.isalpha():\n",
    "            # Replace with reversed letter\n",
    "            result.append(letters[letter_index])\n",
    "            letter_index += 1\n",
    "        else:\n",
    "            # Keep non-letter characters as is\n",
    "            result.append(char)\n",
    "    \n",
    "    return ''.join(result)\n",
    "\n",
    "# Example usage\n",
    "input_string = \"ab*c&&de\"\n",
    "output_string = reverse_only_letters(input_string)\n",
    "print(output_string)"
   ]
  }
 ],
 "metadata": {
  "kernelspec": {
   "display_name": "Python [conda env:base] *",
   "language": "python",
   "name": "conda-base-py"
  },
  "language_info": {
   "codemirror_mode": {
    "name": "ipython",
    "version": 3
   },
   "file_extension": ".py",
   "mimetype": "text/x-python",
   "name": "python",
   "nbconvert_exporter": "python",
   "pygments_lexer": "ipython3",
   "version": "3.12.7"
  }
 },
 "nbformat": 4,
 "nbformat_minor": 5
}
